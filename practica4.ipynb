{
 "cells": [
  {
   "cell_type": "code",
   "execution_count": null,
   "metadata": {},
   "outputs": [],
   "source": [
    "# Imports\n",
    "\n",
    "%matplotlib widget\n",
    "\n",
    "import ipywidgets as widgets\n",
    "import matplotlib.pyplot as plt\n",
    "import math\n",
    "import numpy as np"
   ]
  },
  {
   "cell_type": "markdown",
   "metadata": {},
   "source": [
    "# Práctica 4: Transformada discreta de Fourier"
   ]
  },
  {
   "cell_type": "markdown",
   "metadata": {},
   "source": [
    "## Ejercicio 1\n",
    "Ejercicio 1: Genere una señal $ s(t) = sin(2 \\pi f_1 t)+4 sin(2\\pi f_2 t) $ , con $ f1 = 10 Hz$ y $f2 = 20 Hz$ , y obtenga su versión discreta $ s[n]$  con periodo de muestreo $T = 0,001 s$ en el intervalo de tiempo $t = [0 . . . 1) s$ . A continuación:\n",
    "1. Calcule la TDF $ S[k]$ de la señal $s[n]$ y grafique el espectro de magnitud de $S[k]$.\n"
   ]
  },
  {
   "cell_type": "markdown",
   "metadata": {},
   "source": [
    "2. Verifique la relación de Parseval para la TDF:\n",
    "$$ E_s = \\sum_{n = 1}^{N} s[n]^2 = \\frac{1}{N} |S[k]|^2 $$\n",
    "donde N es la cantidad de muestras de s[n].\n"
   ]
  },
  {
   "cell_type": "markdown",
   "metadata": {},
   "source": [
    "Realice los siguientes cambios y analice los resultados obtenidos:\n",
    "1. Modifique $s[n]$ de forma tal que:\n",
    "$$ s[n] = sin(2 \\pi f_1 t) + 4 sin(2 \\pi f_2 t) + 4 $$\n",
    "y analice los cambios en el espectro de magnitud de $S[k]$."
   ]
  },
  {
   "cell_type": "markdown",
   "metadata": {},
   "source": [
    "2. Modifique las frecuencias de las señales seno de forma tal que $f1 = 10 Hz$ y $f2 = 11 Hz$ y analice los cambios en el espectro de magnitud de $S[k]$."
   ]
  },
  {
   "cell_type": "markdown",
   "metadata": {},
   "source": [
    "3. Modifique nuevamente las frecuencias de las señales seno de forma tal que $f1 = 10 Hz$ y $f2 = 10,5 Hz$. ¿Qué ocurre en el espectro de magnitud de $S[k]$?"
   ]
  },
  {
   "cell_type": "markdown",
   "metadata": {},
   "source": [
    "4. Modifique el intervalo de tiempo de análisis de la siguiente manera $t = [0 . . . 2) s$. y analice los cambios en la TDF"
   ]
  },
  {
   "cell_type": "markdown",
   "metadata": {},
   "source": [
    "## Ejercicio 2\n",
    "Genere:\n",
    "\n",
    "a) una señal senoidal discreta de frecuencia 2 Hz, \n",
    "\n",
    "b) una señal cuadrada periódica de frecuencia 2 Hz, y\n",
    " \n",
    "c) una señal senoidal de frecuencia 4 Hz.\n",
    "\n",
    "Para todas ellas utilice fase cero, una frecuencia de muestreo de 100 Hz, y una duración total de 1 segundo. Con estas señales realice las siguientes operaciones:\n",
    "1. Verifique si son ortogonales las señales a) y b), a) y c), b) y c)."
   ]
  },
  {
   "cell_type": "markdown",
   "metadata": {},
   "source": [
    "2. Calcule la TDF de las tres señales, y verifique la ortogonalidad de los pares como en el ejercicio anterior, en este dominio transformado."
   ]
  },
  {
   "cell_type": "markdown",
   "metadata": {},
   "source": [
    "3. Redefina la señal c), como una senoidal pero de frecuencia 3.5 Hz. Verifique si es ortogonal respecto a la señal a), en ambos dominios."
   ]
  },
  {
   "cell_type": "markdown",
   "metadata": {},
   "source": [
    "## Ejercicio 3\n",
    "Verifique la propiedad de retardo temporal de la transformada discreta de Fourier. Para ello, genere una señal senoidal de 10 Hz, muestreada a 100 Hz durante un segundo. Calcule su transformada de Fourier. Modifique esta última de acuerdo a la ecuación de la propiedad, para generar un retardo de 10 muestras.\n",
    "Antitransforme y verifique el cumplimiento de la propiedad."
   ]
  },
  {
   "cell_type": "markdown",
   "metadata": {},
   "source": [
    "## Ejercicio 4\n",
    "Las señales verifican que cuanto más concentrada está su energía en cierta región del dominio temporal, más dispersa estará en el dominio frecuencial, y viceversa. Ejemplos extremos de esto son una señal senoidal, que tiene su energ´ıa\n",
    "distribuida a lo largo de toda la señal, pero en dominio frecuencial ésta se concentra en la frecuencia de la misma, y un delta de Dirac, que en dominio temporal tiene toda su energía concentrada en un instante, pero en dominio frecuencial\n",
    "contiene todas las frecuencias.\n",
    "\n",
    "Explore esta propiedad utilizando ventanas temporales, más o menos concentradas alrededor de cierto tiempo, y calculando sus\n",
    "respectivas transformadas de Fourier"
   ]
  },
  {
   "cell_type": "markdown",
   "metadata": {},
   "source": [
    "## Ejercicio 5\n",
    "La Figura 1 representa la magnitud de la FFT de una señal senoidal de 27 Hz, muestreada durante 1 s y a una frecuencia de muestreo de 50 Hz. La señal muestreada responde a la ecuación $$ x(t) = 2 sin(2 \\pi 27t) $$\n",
    "![a](img/ej5_guia4.png)\n",
    "\n",
    "1. Determine la frecuencia de la señal que observa. Explique la discrepancia con frecuencia de la señal original."
   ]
  },
  {
   "cell_type": "markdown",
   "metadata": {},
   "source": [
    "2. Deduzca una ecuación para determinar cómo se genera la señal de la frecuencia observada, a partir de la frecuencia original y los parámetros del muestreo. Verifique la validez de su ecuación para otras señales, por ejemplo una de 105 Hz."
   ]
  },
  {
   "cell_type": "markdown",
   "metadata": {},
   "source": [
    "\n",
    "3. Determine la relación entre la magnitud observada de la transformada y la amplitud de la señal original."
   ]
  },
  {
   "cell_type": "markdown",
   "metadata": {},
   "source": [
    "## Ejercicio 6\n",
    "(∗) La señal que se encuentra en el archivo necg.txt corresponde al registro de la actividad eléctrica del corazón de un paciente. Esta señal se ha digitalizado a razón de 360 muestras por segundo. Se sabe que el registro ha sido contaminado con un ruido en la banda de 40 a 180 Hz y se necesita eliminarlo\n",
    "para poder realizar un diagnóstico adecuado. Utilice la TDF para filtrar la señal."
   ]
  }
 ],
 "metadata": {
  "language_info": {
   "name": "python"
  },
  "orig_nbformat": 4
 },
 "nbformat": 4,
 "nbformat_minor": 2
}
