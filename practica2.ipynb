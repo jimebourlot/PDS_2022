{
 "cells": [
  {
   "cell_type": "markdown",
   "metadata": {},
   "source": [
    "# Práctica 2: Sistemas y Convolución"
   ]
  },
  {
   "cell_type": "code",
   "execution_count": 1,
   "metadata": {},
   "outputs": [],
   "source": [
    "# imports\n",
    "import numpy as np\n",
    "from matplotlib import pyplot as plt\n",
    "%matplotlib widget\n"
   ]
  },
  {
   "cell_type": "markdown",
   "metadata": {},
   "source": [
    "## Sistemas"
   ]
  },
  {
   "cell_type": "markdown",
   "metadata": {},
   "source": [
    "### Ejercicio 1:\n",
    "Para cada uno de los siguientes sistemas determine si son causales, lineales, invariantes en el tiempo y si poseen memoria. En cada caso grafique la salida del sistema $y[n]$ para una entrada dada."
   ]
  },
  {
   "cell_type": "markdown",
   "metadata": {},
   "source": [
    "Sistemas Causales: Si su salida en cualquier instante de tiempo depende solo de los valores de la entrada en el instante actual y en instantes anteriores. Es decir, que NO deben conocerse con anticipación los valores futuros de la entrada.\n",
    "\n",
    "Sistemas con memoria: son sistemas donde la salida depende de valores anteriores de la entrada del sistema. Los sistemas sin memoria tienen una salida que depende solo de la entrada en ese instante.\n",
    "\n",
    "Sistemas invariantes en el tiempo: son sistemas donde un desplazamiento en la entrada produce el mismo desplazamiento en la salida. Corresponde con decir que los coeficientes de la ecuación que definen el sistema sean constantes.\n",
    "\n",
    "Sistemas lineales: corresponde a sistemas en los cuales una superposición de señales (o suma ponderada) en la entrada, produce salidas que son una superposición de las salidas de cada una de las señales ponderadas."
   ]
  },
  {
   "cell_type": "markdown",
   "metadata": {},
   "source": [
    "1. $ y[n] = g[n]x[n]$ , donde $g[n] = A sin( \\omega n T)$ siendo A constante, $ω = 2 \\pi f$ y T el período de muestreo.\n",
    "\n",
    "Corresponde a un sistema sin memoria dado que la salida depende solo de la entrada actual.\n",
    "\n",
    "Se trata de un sistema Causal, dado que no se requieren conocer valores futuros de la entrada.\n",
    "\n",
    "Es un sistema variante en el tiempo ya que un desplazamiento en la entrada no produce el mismo desplazamiento en la salida, dado que el coeficiente de la ecuación del sistema es variable con respecto a n.\n",
    "\n",
    "2. $ y[n] = \\sum_{k= n - n_0}^{n + n_0} x[k] $\n",
    "\n",
    "Corresponde a un sistema con memoria ya que la salida depende no solo de la entrada actual sino de entradas anteriores también.\n",
    "\n",
    "Se trata de un sistema no causal ya que requiere conocer valores futuros de la entrada.\n",
    "\n",
    "Es un sistema invariante en el tiempo, ya que los coeficientes son constantes.\n",
    "\n",
    "3. $ y[n] = x[n] + 2 $\n",
    "\n",
    "Corresponde a un sistema sin memoria dado que la salida depende solo de la entrada actual.\n",
    "\n",
    "Se trata de un sistema Causal, dado que no se requieren conocer valores futuros de la entrada.\n",
    "\n",
    "Es un sistema invariante en el tiempo, ya que los coeficientes son constantes.\n",
    "\n",
    "4. $ y[n] = nx[n] $\n",
    "\n",
    "Corresponde a un sistema sin memoria dado que la salida depende solo de la entrada actual.\n",
    "\n",
    "Se trata de un sistema Causal, dado que no se requieren conocer valores futuros de la entrada.\n",
    "\n",
    "Es un sistema invariante en el tiempo, ya que los coeficientes son constantes.\n",
    "\n"
   ]
  },
  {
   "cell_type": "code",
   "execution_count": null,
   "metadata": {},
   "outputs": [],
   "source": [
    "# Sistemas\n",
    "#1- \n",
    "def y1(x,A,fs,Tm):\n",
    "    n = np.arange(0,len(x),1)\n",
    "    return A*np.sin(2*np.pi*fs*n*Tm)*x\n",
    "\n",
    "x = np.ones(25)\n",
    "y = y1(x, 2, 4, 1/50)\n",
    "plt.close('all')\n",
    "plt.stem(y)\n",
    "plt.show()\n",
    "\n",
    "#2-\n",
    "def y2(x, n0):\n",
    "    y = np.zeros(len(x))\n",
    "    for n in range(len(x)):\n",
    "        k = np.nonzero(np.arange(n-n0, n+n0, 1)>=0)\n",
    "        k = k[0]\n",
    "        y[n] = np.sum(x[k[0]:k[len(k)-1]])\n",
    "    return y\n",
    "\n",
    "x = np.ones(10)\n",
    "y_2 = y2(x,3)\n",
    "plt.close('all')\n",
    "plt.stem(y_2)\n",
    "plt.show()\n",
    "\n",
    "# 3- \n",
    "def y3(x):\n",
    "    return x + 2\n",
    "\n",
    "x = np.arange(1, 50, 1)\n",
    "y_3 = y3(x)\n",
    "plt.close('all')\n",
    "plt.stem(y_3)\n",
    "plt.show()\n",
    "\n",
    "# 4-\n",
    "def y4(x):\n",
    "    n = np.arange(0,len(x),1)\n",
    "    return n*x\n",
    "\n",
    "x = np.ones(25)\n",
    "y_4 = y4(x)\n",
    "plt.close('all')\n",
    "plt.stem(y_4)\n",
    "plt.show()\n"
   ]
  },
  {
   "cell_type": "markdown",
   "metadata": {},
   "source": [
    "### Ejercicio 2: \n",
    "Considere el diagrama en bloques de la Figura y encuentre la ecuación en diferencias para la señal de salida $y[n]$ en función de la señal de entrada $x[n]$\n",
    "\n",
    "![title](img/sistema_guia2_ej2.png)\n"
   ]
  },
  {
   "cell_type": "markdown",
   "metadata": {},
   "source": [
    "La ecuación del sistema de la figura es \n",
    "\n",
    "$$ y[n]^2 = x[n]^2 - 2x[n-1]x[n] + x[n-1]^2 $$\n",
    "\n",
    "Por trinomio cuadrado perfecto, la expresión después del igual es equivalente a hacer:\n",
    "\n",
    "$$ y[n]^2 = ( x[n-1] - x[n] ) ^2 $$\n",
    "\n",
    "Y la ecuación en diferencias queda:\n",
    "\n",
    "$$ y[n] = x[n-1] - x[n] $$"
   ]
  },
  {
   "cell_type": "markdown",
   "metadata": {},
   "source": [
    "### Ejercicio 3:\n",
    "Considere el sistema LTI dado por la ecuación en diferencias $ y[n] − 0,5 y[n−1] + 0, 25 y[n−2] = x[n] $ inicialmente en reposo. Encuentre el diagrama en bloques que lo representa.\n",
    "\n",
    "![title](img/sistema_guia2.png)\n"
   ]
  },
  {
   "cell_type": "markdown",
   "metadata": {},
   "source": [
    "### Ejercicio 4:\n",
    "Encuentre la respuesta al impulso de los sistemas LTI causales descriptos por las siguientes ecuaciones en diferencias y clasifíquelos en función de ésta. Utilice condiciones iniciales nulas."
   ]
  },
  {
   "cell_type": "markdown",
   "metadata": {},
   "source": [
    "Clasificación según la respuesta al impulso:\n",
    "- Respuesta finita al impulso (FIR): pasado cierto tiempo el sistema se vuelve a cero.\n",
    "- Respuesta infinita al impulso (IIR): la respuesta al impulso del sistema nunca se agota. Se debe generalmente a que la salida depende de salidas anteriores no nulas, y esto se repite indefinidamente."
   ]
  },
  {
   "cell_type": "markdown",
   "metadata": {},
   "source": [
    "1. $ y[n] − y[n − 2] = x[n] $\n",
    "2. $ y[n] = x[n] + 0,5x[n − 1] $\n",
    "3. $ y[n] − 0,5y[n − 1] + 0,25y[n − 2] = x[n] $\n"
   ]
  },
  {
   "cell_type": "markdown",
   "metadata": {},
   "source": [
    "## Convolución"
   ]
  },
  {
   "cell_type": "markdown",
   "metadata": {},
   "source": [
    "### Ejercicio 1\n",
    "Implemente la convolución lineal mediante una sumatoria de convolución. Pruébela para convolucionar dos señales cualesquiera de longitud N muestras. Compare los resultados con los obtenidos mediante la función $conv(x,y)$ y con la función $filter$.\n",
    "\n",
    "La función $ Y = filter(B,A,X) $ implementa la ecuación en diferencias, para los coeficientes dados en los vectores A y B y la señal de entrada X, según:\n",
    "\n",
    "$ a(1)*y(n) = b(1)*x(n) + b(2)*x(n-1) + ... - a(2)*y(n-1) - ... $\n",
    "\n",
    "A partir de esto, determine los valores a ingresar en los vectores A y B para obtener la salida esperada."
   ]
  },
  {
   "cell_type": "markdown",
   "metadata": {},
   "source": [
    "#### Convolución Lineal:\n",
    "\n",
    "Convolución discreta o sumatoria de convolución\n",
    "$$ y[n] = \\sum_{i = 0}^{N - 1} x[i] h[k-i]$$"
   ]
  },
  {
   "cell_type": "code",
   "execution_count": 15,
   "metadata": {},
   "outputs": [],
   "source": [
    "# Convolución Lineal\n",
    "\n",
    "def  linear_conv(x,h):\n",
    "  n_c = len(x)+len(h)-1\n",
    "  conv=np.zeros(n_c)\n",
    "  for i in range(len(h)):\n",
    "    aux = 0\n",
    "    for k in range (len(x)):\n",
    "      print(\"i:\",i,\"- k:\",k)\n",
    "      aux = x[k]*h[i]\n",
    "      conv[i+k] = conv[i+k]+aux\n",
    "  return conv"
   ]
  },
  {
   "cell_type": "code",
   "execution_count": 21,
   "metadata": {},
   "outputs": [
    {
     "name": "stdout",
     "output_type": "stream",
     "text": [
      "i: 0 - k: 0\n",
      "i: 0 - k: 1\n",
      "i: 0 - k: 2\n",
      "i: 1 - k: 0\n",
      "i: 1 - k: 1\n",
      "i: 1 - k: 2\n",
      "i: 2 - k: 0\n",
      "i: 2 - k: 1\n",
      "i: 2 - k: 2\n",
      "conv lineal entre x1 y x2 [2.  4.5 6.  3.  2. ]\n"
     ]
    },
    {
     "data": {
      "image/png": "[encoded data removed]",
      "text/plain": [
       "<Figure size 432x288 with 3 Axes>"
      ]
     },
     "metadata": {
      "needs_background": "light"
     },
     "output_type": "display_data"
    }
   ],
   "source": [
    "#Prueba\n",
    "x1 = [1, 2, 2]; x2 = [2, 1, 0.5]\n",
    "conv = linear_conv(x1, x2)\n",
    "\n",
    "plt.close('all')\n",
    "fig, axs = plt.subplots(1, 3)\n",
    "axs[0].stem(x1); axs[0].title.set_text('x1')\n",
    "axs[1].stem(x2); axs[1].title.set_text('x2')\n",
    "axs[2].stem(conv); axs[2].title.set_text('convolución lineal')\n",
    "\n",
    "print(\"conv lineal entre x1 y x2\", conv)"
   ]
  },
  {
   "cell_type": "markdown",
   "metadata": {},
   "source": [
    "### Ejercicio 2:\n",
    "Escriba una función que realice la convolución circular discreta (tambien llamada convolución periódica) entre dos señales $x[n]$ y $h[n]$, ambas de longitud longitud N muestras, utilizando ciclos for. En ésta se debe considerar a $x[n]$ periódica, pero $ h[n] $ debe ser nula fuera de su rango de definición. La convolución circular se puede expresar mediante la siguiente ecuación:\n",
    "\n",
    "$$ y[k] = \\sum_{l = 1}^{N} h[l]x[((N + k − l)modN) + 1] $$\n",
    "\n",
    "para $ 1 ≤ k ≤ N $, donde $mod$ es la operación módulo entero (resto de la división entera)."
   ]
  },
  {
   "cell_type": "code",
   "execution_count": 6,
   "metadata": {},
   "outputs": [],
   "source": [
    "import numpy as np\n",
    "from matplotlib import pyplot as plt\n",
    "def circ_conv_2(x,y):\n",
    "  n = len(x)\n",
    "  z = np.zeros(n)\n",
    "  for k in range(n):\n",
    "    aux = 0\n",
    "    for l in range(n):\n",
    "      aux = y[np.mod(n+k-l,n)]*x[l]\n",
    "      z[k]= z[k] + aux\n",
    "  return z"
   ]
  },
  {
   "cell_type": "code",
   "execution_count": 13,
   "metadata": {},
   "outputs": [
    {
     "name": "stdout",
     "output_type": "stream",
     "text": [
      "conv circular entre x1 y x2 [3.  5.  6.5 3. ]\n"
     ]
    },
    {
     "data": {
      "image/png": "[encoded data removed]",
      "text/plain": [
       "<Figure size 432x288 with 3 Axes>"
      ]
     },
     "metadata": {
      "needs_background": "light"
     },
     "output_type": "display_data"
    }
   ],
   "source": [
    "#Prueba\n",
    "x1 = [1, 2, 2, 0]; x2 = [2, 1, 0.5, 0]\n",
    "conv = circ_conv_2(x2, x1)\n",
    "\n",
    "plt.close('all')\n",
    "fig, axs = plt.subplots(1, 3)\n",
    "axs[0].stem(x1); axs[0].title.set_text('x1')\n",
    "axs[1].stem(x2); axs[1].title.set_text('x2')\n",
    "axs[2].stem(conv); axs[2].title.set_text('convolución circular')\n",
    "\n",
    "print(\"conv circular entre x1 y x2\", conv)"
   ]
  },
  {
   "cell_type": "markdown",
   "metadata": {},
   "source": [
    "### Ejercicio 3\n",
    "\n",
    "Considere dos sistemas LTI conectados en cascada (Figura 2), con respuestas al impulso dadas por $h_A[n] = sin(8n)$ y $h_B[n] = a^n $ , donde $ a ∈ R $ , $ |a| < 1 $ y $ 0 \\leq n \\leq N − 1 $, con N el número de muestras distintas de cero. Obtenga N muestras de las respuestas al impulso, $h_A$ y $h_B$, según las definiciones dadas, y determine la salida $y[n]$ para una entrada $x[n] = δ[n] − a\\delta[n − 1] $, siendo $\\delta[n]$ es la función de impulso unitario. Luego invierta\n",
    "el orden de conexión de los sistemas y vuelva a calcular la salida. Compare con la salida obtenida originalmente."
   ]
  },
  {
   "cell_type": "code",
   "execution_count": 67,
   "metadata": {},
   "outputs": [
    {
     "name": "stdout",
     "output_type": "stream",
     "text": [
      "entrada [ 1.  -0.5  0.   0.   0.   0.   0.   0. ]\n",
      "respuesta impulso A: [ 0.          0.98935825 -0.28790332 -0.90557836  0.55142668  0.74511316\n",
      " -0.76825466 -0.521551  ]\n",
      "respuesta impulso B: [1.        0.5       0.25      0.125     0.0625    0.03125   0.015625\n",
      " 0.0078125]\n",
      "PRUEBA 1\n",
      "conv x con impulso a [ 0.          0.98935825 -0.78258244 -0.7616267   1.00421586  0.46939982\n",
      " -1.14081124 -0.13742367  0.2607755   0.          0.          0.\n",
      "  0.          0.          0.        ]\n",
      "conv de x con impulso a, con b: salida del sistema [ 0.          0.98935825 -0.28790332 -0.90557836  0.55142668  0.74511316\n",
      " -0.76825466 -0.521551    0.         -0.00386468  0.00112462  0.00353742\n",
      " -0.00215401 -0.0029106   0.00300099  0.00203731  0.          0.\n",
      "  0.          0.          0.          0.        ]\n",
      "PRUEBA 2\n",
      "conv x con impulso b [ 1.          0.          0.          0.          0.          0.\n",
      "  0.          0.         -0.00390625  0.          0.          0.\n",
      "  0.          0.          0.        ]\n",
      "conv de x con impulso b, con a: salida del sistema [ 0.          0.98935825 -0.28790332 -0.90557836  0.55142668  0.74511316\n",
      " -0.76825466 -0.521551    0.         -0.00386468  0.00112462  0.00353742\n",
      " -0.00215401 -0.0029106   0.00300099  0.00203731  0.          0.\n",
      "  0.          0.          0.          0.        ]\n"
     ]
    },
    {
     "data": {
      "application/vnd.jupyter.widget-view+json": {
       "model_id": "e5fa36b77b92443d8059fb299a51c67a",
       "version_major": 2,
       "version_minor": 0
      },
      "image/png": "[encoded data removed]",
      "text/html": [
       "\n",
       "            <div style=\"display: inline-block;\">\n",
       "                <div class=\"jupyter-widgets widget-label\" style=\"text-align: center;\">\n",
       "                    Figure\n",
       "                </div>\n",
       "                <img src='data:image/png;base64,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' width=640.0/>\n",
       "            </div>\n",
       "        "
      ],
      "text/plain": [
       "Canvas(toolbar=Toolbar(toolitems=[('Home', 'Reset original view', 'home', 'home'), ('Back', 'Back to previous …"
      ]
     },
     "metadata": {},
     "output_type": "display_data"
    }
   ],
   "source": [
    "def h_A(N):\n",
    "    n = np.arange(0,N,1)\n",
    "    return np.sin(8*n)\n",
    "\n",
    "def h_B(N,a):\n",
    "    n = np.arange(0,N,1)\n",
    "    return np.power(a,n)\n",
    "\n",
    "\n",
    "a = 0.5\n",
    "N = 8\n",
    "x = np.zeros(N)\n",
    "delta = np.zeros(N); delta[0] = 1\n",
    "for n in range(len(delta)):\n",
    "    aux = 0\n",
    "    if(n-1 >= 0 ):\n",
    "        aux = delta[n-1]\n",
    "    x[n] = delta[n] - a * aux\n",
    "print(\"entrada\",x)\n",
    "\n",
    "h_a = h_A(N)\n",
    "h_b = h_B(N,a)\n",
    "print('respuesta impulso A:',h_a)\n",
    "print('respuesta impulso B:',h_b)\n",
    "\n",
    "print(\"PRUEBA 1\")\n",
    "conv_x_a = np.convolve(x,h_a)\n",
    "print(\"conv x con impulso a\",conv_x_a)\n",
    "\n",
    "conv_a_b = np.convolve(conv_x_a,h_b)\n",
    "print(\"conv de x con impulso a, con b: salida del sistema\",conv_a_b)\n",
    "\n",
    "\n",
    "print(\"PRUEBA 2\")\n",
    "\n",
    "conv_x_b = np.convolve(x,h_b)\n",
    "print(\"conv x con impulso b\",conv_x_b)\n",
    "\n",
    "conv_b_a = np.convolve(conv_x_b,h_a)\n",
    "print(\"conv de x con impulso b, con a: salida del sistema\",conv_b_a)\n",
    "\n",
    "plt.close('all')\n",
    "fig, axs = plt.subplots(1, 2)\n",
    "axs[0].stem(conv_a_b); axs[0].title.set_text('x - hA - hB')\n",
    "axs[1].stem(conv_b_a); axs[1].title.set_text('x - hB - hA')"
   ]
  }
 ],
 "metadata": {
  "interpreter": {
   "hash": "b3ba2566441a7c06988d0923437866b63cedc61552a5af99d1f4fb67d367b25f"
  },
  "kernelspec": {
   "display_name": "Python 3.8.5 ('base')",
   "language": "python",
   "name": "python3"
  },
  "language_info": {
   "codemirror_mode": {
    "name": "ipython",
    "version": 3
   },
   "file_extension": ".py",
   "mimetype": "text/x-python",
   "name": "python",
   "nbconvert_exporter": "python",
   "pygments_lexer": "ipython3",
   "version": "3.8.5"
  },
  "orig_nbformat": 4
 },
 "nbformat": 4,
 "nbformat_minor": 2
}
