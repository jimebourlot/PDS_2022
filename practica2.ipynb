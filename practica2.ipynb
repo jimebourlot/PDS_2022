{
 "cells": [
  {
   "cell_type": "markdown",
   "metadata": {},
   "source": [
    "# Práctica 2: Sistemas y Convolución"
   ]
  },
  {
   "cell_type": "code",
   "execution_count": 1,
   "metadata": {},
   "outputs": [],
   "source": [
    "# imports\n",
    "import numpy as np"
   ]
  },
  {
   "cell_type": "markdown",
   "metadata": {},
   "source": [
    "## Sistemas"
   ]
  },
  {
   "cell_type": "markdown",
   "metadata": {},
   "source": [
    "### Ejercicio 1:\n",
    "Para cada uno de los siguientes sistemas determine si son causales, lineales, invariantes en el tiempo y si poseen memoria. En cada caso grafique la salida del sistema $y[n]$ para una entrada dada."
   ]
  },
  {
   "cell_type": "markdown",
   "metadata": {},
   "source": [
    "1. $ y[n] = g[n]x[n]$ , donde $g[n] = A sin( \\omega n T)$ siendo A constante, $ω = 2 \\pi f$ y T el período de muestreo.\n",
    "\n",
    "a\n",
    "\n",
    "2. $ y[n] = \\sum_{k= n - n_0}^{n + n_0} x[k] $\n",
    "\n",
    "a\n",
    "\n",
    "3. $ y[n] = x[n] + 2 $\n",
    "\n",
    "a\n",
    "\n",
    "4. $ y[n] = nx[n] $\n",
    "\n",
    "a\n"
   ]
  },
  {
   "cell_type": "markdown",
   "metadata": {},
   "source": [
    "### Ejercicio 2: \n",
    "Considere el diagrama en bloques de la Figura 1 y encuentre la ecuación en diferencias para la señal de salida $y[n]$ en función de la señal de entrada $x[n]$"
   ]
  },
  {
   "cell_type": "markdown",
   "metadata": {},
   "source": [
    "La ecuación del sistema de la figura es \n",
    "\n",
    "$$a $$"
   ]
  },
  {
   "cell_type": "markdown",
   "metadata": {},
   "source": [
    "### Ejercicio 3:\n",
    "Considere el sistema LTI dado por la ecuación en diferencias $ y[n] − 0,5 y[n−1] + 0, 25 y[n−2] = x[n] $ inicialmente en reposo. Encuentre el diagrama en bloques que lo representa."
   ]
  },
  {
   "cell_type": "markdown",
   "metadata": {},
   "source": [
    "### Ejercicio 4:\n",
    "Encuentre la respuesta al impulso de los sistemas LTI causales descriptos por las siguientes ecuaciones en diferencias y clasifíquelos en función de ésta. Utilice condiciones iniciales nulas."
   ]
  },
  {
   "cell_type": "markdown",
   "metadata": {},
   "source": [
    "Clasificación según la respuesta al impulso:\n",
    "- Respuesta finita al impulso (FIR): pasado cierto tiempo el sistema se vuelve a cero.\n",
    "- Respuesta infinita al impulso (IIR): la respuesta al impulso del sistema nunca se agota. Se debe generalmente a que la salida depende de salidas anteriores no nulas, y esto se repite indefinidamente."
   ]
  },
  {
   "cell_type": "markdown",
   "metadata": {},
   "source": [
    "1. $ y[n] − y[n − 2] = x[n] $\n",
    "2. $ y[n] = x[n] + 0,5x[n − 1] $\n",
    "3. $ y[n] − 0,5y[n − 1] + 0,25y[n − 2] = x[n] $\n"
   ]
  },
  {
   "cell_type": "markdown",
   "metadata": {},
   "source": [
    "## Convolución"
   ]
  },
  {
   "cell_type": "markdown",
   "metadata": {},
   "source": [
    "### Ejercicio 1\n",
    "Implemente la convolución lineal mediante una sumatoria de convolución. Pruébela para convolucionar dos señales cualesquiera de longitud N muestras. Compare los resultados con los obtenidos mediante la función $conv(x,y)$ y con la función $filter$.\n",
    "\n",
    "La función $ Y = filter(B,A,X) $ implementa la ecuación en diferencias, para los coeficientes dados en los vectores A y B y la señal de entrada X, según:\n",
    "\n",
    "$ a(1)*y(n) = b(1)*x(n) + b(2)*x(n-1) + ... - a(2)*y(n-1) - ... $\n",
    "\n",
    "A partir de esto, determine los valores a ingresar en los vectores A y B para obtener la salida esperada."
   ]
  },
  {
   "cell_type": "markdown",
   "metadata": {},
   "source": [
    "#### Convolución Lineal:\n",
    "\n",
    "Convolución discreta o sumatoria de convolución\n",
    "$$ y[n] = \\sum_{i = 0}^{N - 1} x[i] h[k-i]$$"
   ]
  },
  {
   "cell_type": "code",
   "execution_count": 16,
   "metadata": {},
   "outputs": [],
   "source": [
    "# Convolución Lineal\n",
    "\n",
    "def  conv_linear(x,h):\n",
    "  n_c = len(x)+len(h)-1\n",
    "  conv=np.zeros(n_c)\n",
    "  for i in range(len(x)):\n",
    "    aux = 0\n",
    "    for k in range (len(x)):\n",
    "      print(\"i:\",i,\"- k:\",k)\n",
    "      aux = x[k]*h[i]\n",
    "      conv[i+k] = conv[i+k]+aux\n",
    "  return conv"
   ]
  },
  {
   "cell_type": "code",
   "execution_count": 17,
   "metadata": {},
   "outputs": [
    {
     "name": "stdout",
     "output_type": "stream",
     "text": [
      "i: 0 - k: 0\n",
      "i: 0 - k: 1\n",
      "i: 0 - k: 2\n",
      "i: 1 - k: 0\n",
      "i: 1 - k: 1\n",
      "i: 1 - k: 2\n",
      "i: 2 - k: 0\n",
      "i: 2 - k: 1\n",
      "i: 2 - k: 2\n",
      "conv lineal entre x1 y x2 [2.  5.  6.5 3.  1. ]\n"
     ]
    }
   ],
   "source": [
    "#Prueba\n",
    "x1 = [1, 2, 2]; x2 = [2, 1, 0.5]\n",
    "conv = conv_linear(x1, x2)\n",
    "print(\"conv lineal entre x1 y x2\", conv)"
   ]
  },
  {
   "cell_type": "markdown",
   "metadata": {},
   "source": [
    "### Ejercicio 2:\n",
    "Escriba una función que realice la convolución circular discreta (tambien llamada convolución periódica) entre dos señales $x[n]$ y $h[n]$, ambas de longitud longitud N muestras, utilizando ciclos for. En ésta se debe considerar a $x[n]$ periódica, pero $ h[n] $ debe ser nula fuera de su rango de definición. La convolución circular se puede expresar mediante la siguiente ecuación:\n",
    "\n",
    "$$ y[k] = \\sum_{l = 1}^{N} h[l]x[((N + k − l)modN) + 1] $$\n",
    "\n",
    "para $ 1 ≤ k ≤ N $, donde $mod$ es la operación módulo entero (resto de la división entera)."
   ]
  },
  {
   "cell_type": "markdown",
   "metadata": {},
   "source": [
    "### Ejercicio 3\n",
    "\n",
    "Considere dos sistemas LTI conectados en cascada (Figura 2), con respuestas al impulso dadas por $h_A[n] = sin(8n)$ y $h_B[n] = a^n $ , donde $ a ∈ R $ , $ |a| < 1 $ y $ 0 \\leq n \\leq N − 1 $, con N el número de muestras distintas de cero. Obtenga N muestras de las respuestas al impulso, $h_A$ y $h_B$, según las definiciones dadas, y determine la salida $y[n]$ para una entrada $x[n] = δ[n] − a\\delta[n − 1] $, siendo $\\delta[n]$ es la función de impulso unitario. Luego invierta\n",
    "el orden de conexión de los sistemas y vuelva a calcular la salida. Compare con la salida obtenida originalmente."
   ]
  }
 ],
 "metadata": {
  "interpreter": {
   "hash": "b3ba2566441a7c06988d0923437866b63cedc61552a5af99d1f4fb67d367b25f"
  },
  "kernelspec": {
   "display_name": "Python 3.8.5 ('base')",
   "language": "python",
   "name": "python3"
  },
  "language_info": {
   "codemirror_mode": {
    "name": "ipython",
    "version": 3
   },
   "file_extension": ".py",
   "mimetype": "text/x-python",
   "name": "python",
   "nbconvert_exporter": "python",
   "pygments_lexer": "ipython3",
   "version": "3.8.5"
  },
  "orig_nbformat": 4
 },
 "nbformat": 4,
 "nbformat_minor": 2
}
