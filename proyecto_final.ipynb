{
 "cells": [
  {
   "cell_type": "code",
   "execution_count": null,
   "metadata": {},
   "outputs": [],
   "source": [
    "T=1/fm\n",
    "pmin=0\n",
    "pmax=10000\n",
    "\n",
    "Tmin=1/pmax\n",
    "Tmax=1/pmin\n",
    "\n",
    "nmin=mat.floor(T)"
   ]
  }
 ],
 "metadata": {
  "language_info": {
   "name": "python"
  },
  "orig_nbformat": 4
 },
 "nbformat": 4,
 "nbformat_minor": 2
}
