{
 "cells": [
  {
   "cell_type": "markdown",
   "metadata": {},
   "source": [
    "# Práctica 6: Identificación de Sistemas"
   ]
  },
  {
   "cell_type": "code",
   "execution_count": null,
   "metadata": {},
   "outputs": [],
   "source": [
    "# Imports\n",
    "\n",
    "# %matplotlib widget\n",
    "\n",
    "import ipywidgets as widgets\n",
    "import matplotlib.pyplot as plt\n",
    "import math\n",
    "import numpy as np\n",
    "from numpy.fft import fft, ifft, fftshift, ifftshift\n",
    "import scipy.signal as sc"
   ]
  },
  {
   "cell_type": "markdown",
   "metadata": {},
   "source": [
    "## Ejercicio 1\n",
    "Considere el sistema $ y[n] = 0,3y[n − 1] − 0,4y[n − 2] + 0,2y[n − 3] + x[n]$  y genere una secuencia de salida a una entrada de tipo aleatoria con distribución uniforme y valor medio cero. Utilizando esta señal de salida implemente el método de predicción lineal y verifique el comportamiento de los criterios para estimación del orden."
   ]
  },
  {
   "cell_type": "markdown",
   "metadata": {},
   "source": [
    "## Ejercicio 2:\n",
    "La señal de electroencefalograma se puede modelar mediante un sistema AR de orden cuatro a ocho. Identifique el sistema que generó la señal almacenada en el archivo eeg.txt y compare la respuesta en frecuencia de este sistema con el espectro de la señal.\n"
   ]
  }
 ],
 "metadata": {
  "language_info": {
   "name": "python"
  },
  "orig_nbformat": 4
 },
 "nbformat": 4,
 "nbformat_minor": 2
}
