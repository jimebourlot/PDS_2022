{
 "cells": [
  {
   "cell_type": "markdown",
   "metadata": {},
   "source": [
    "# Práctica 7: Filtros"
   ]
  },
  {
   "cell_type": "code",
   "execution_count": null,
   "metadata": {},
   "outputs": [],
   "source": [
    "# Imports\n",
    "\n",
    "# %matplotlib widget\n",
    "\n",
    "import ipywidgets as widgets\n",
    "import matplotlib.pyplot as plt\n",
    "import math\n",
    "import numpy as np\n",
    "from numpy.fft import fft, ifft, fftshift, ifftshift\n",
    "import scipy.signal as sc"
   ]
  },
  {
   "cell_type": "markdown",
   "metadata": {},
   "source": [
    "## Ejercicio 1:\n",
    "El diagrama de la Figura 1 muestra los polos y ceros correspondientes a un filtro pasa-banda. Dicho filtro tiene cuatro polos, ubicados en\n",
    "- (0.95,45°), (0.95,-45°),\n",
    "- (0.95,45°), (0.95,-45°)\n",
    "\n",
    "y cuatro ceros ubicados en\n",
    "- (0.80,30°), (0.80,-30°),\n",
    "- (0.80,60°), (0.80,-60°) \n",
    "\n",
    "(coordenadas polares, ángulos en grados).\n",
    "\n",
    "![a](img/polos_ceros_guia7.png)\n",
    "\n",
    "1. Genere el diagrama de polos y ceros en el plano Z, como en la Figura 1."
   ]
  },
  {
   "cell_type": "code",
   "execution_count": null,
   "metadata": {},
   "outputs": [],
   "source": []
  },
  {
   "cell_type": "markdown",
   "metadata": {},
   "source": [
    "2. Encuentre, evalúe y grafique la respuesta en frecuencia del filtro entre 0 y π."
   ]
  },
  {
   "cell_type": "code",
   "execution_count": null,
   "metadata": {},
   "outputs": [],
   "source": []
  },
  {
   "cell_type": "markdown",
   "metadata": {},
   "source": [
    "3. Normalice los coeficientes del filtro, de manera que el valor máximo de la respuesta en frecuencia sea 1."
   ]
  },
  {
   "cell_type": "code",
   "execution_count": null,
   "metadata": {},
   "outputs": [],
   "source": []
  },
  {
   "cell_type": "markdown",
   "metadata": {},
   "source": [
    "4. Modifique el radio de los polos (manteniendo los respectivos conjugados) y observe, en la gráfica, cómo cambia la respuesta en frecuencia."
   ]
  },
  {
   "cell_type": "code",
   "execution_count": null,
   "metadata": {},
   "outputs": [],
   "source": []
  },
  {
   "cell_type": "markdown",
   "metadata": {},
   "source": [
    "5.  Este filtro está diseñado de manera de que cuando se utiliza con señales muestreadas a 200 Hz la banda de paso se centre en 25 Hz. Para comprobar esto, genere una señal sumando dos senoidales de 15 Hz y 25 Hz, para luego filtrarla con el filtro normalizado. Grafique la señal original, la señal filtrada y sus espectros, y analice el resultado."
   ]
  },
  {
   "cell_type": "code",
   "execution_count": null,
   "metadata": {},
   "outputs": [],
   "source": []
  },
  {
   "cell_type": "markdown",
   "metadata": {},
   "source": [
    "6. Repita el ítem anterior pero esta vez genere la señal con una frecuencia de muestreo de 120 Hz. Compare el resultado con el caso anterior y obtenga conclusiones.\n"
   ]
  },
  {
   "cell_type": "code",
   "execution_count": null,
   "metadata": {},
   "outputs": [],
   "source": []
  },
  {
   "cell_type": "markdown",
   "metadata": {},
   "source": [
    "## Ejercicio 2\n",
    "Diseñe un filtro pasa-altos de tipo Butterworth con frecuencia de corte 500 Hz. Para este ejercicio realice todos los pasos del proceso de diseño, comenzando por el diseño analógico y realizando la transformación en frecuencia y la transformación conforme. Para obtener el filtro digital correspondiente, suponga que se procesarán señales con frecuencia de muestreo\n",
    "2000 Hz. Utilice diferentes órdenes y compare los resultados graficando las respuestas en frecuencia. No utilice las funciones de diseño de Matlab, sino que realice sus propias funciones para todos los pasos del proceso"
   ]
  },
  {
   "cell_type": "code",
   "execution_count": null,
   "metadata": {},
   "outputs": [],
   "source": []
  },
  {
   "cell_type": "markdown",
   "metadata": {},
   "source": [
    "## Ejercicio 3\n",
    "Diseñe un filtro FIR mediante el método de ventanas (implementado por usted mismo), que permita eliminar el ruido de línea en una señal que fue muestreada a 300 Hz. Compare los resultados obtenidos con diferentes ventanas de truncado y diferentes cantidades de muestras en la respuesta al impulso."
   ]
  },
  {
   "cell_type": "code",
   "execution_count": null,
   "metadata": {},
   "outputs": [],
   "source": []
  }
 ],
 "metadata": {
  "language_info": {
   "name": "python"
  },
  "orig_nbformat": 4
 },
 "nbformat": 4,
 "nbformat_minor": 2
}
